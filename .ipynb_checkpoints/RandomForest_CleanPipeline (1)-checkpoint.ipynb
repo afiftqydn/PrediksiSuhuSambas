{
 "cells": [
  {
   "cell_type": "code",
   "execution_count": null,
   "id": "ec663f42",
   "metadata": {},
   "outputs": [],
   "source": [
    "import pandas as pd\n",
    "import numpy as np\n",
    "import matplotlib.pyplot as plt\n",
    "import seaborn as sns\n",
    "\n",
    "from sklearn.model_selection import train_test_split, cross_val_score\n",
    "from sklearn.ensemble import RandomForestClassifier\n",
    "from sklearn.metrics import ConfusionMatrixDisplay, classification_report\n",
    "from sklearn.pipeline import Pipeline\n",
    "from sklearn.compose import ColumnTransformer\n",
    "from sklearn.impute import SimpleImputer\n",
    "from sklearn.preprocessing import StandardScaler, OneHotEncoder\n",
    "\n",
    "from imblearn.pipeline import Pipeline as ImbPipeline\n",
    "from imblearn.over_sampling import SMOTE\n"
   ]
  },
  {
   "cell_type": "code",
   "execution_count": null,
   "id": "e164eeb4",
   "metadata": {},
   "outputs": [],
   "source": [
    "# Load dataset\n",
    "df = pd.read_csv(\"readyForModeling.csv\")\n",
    "df.head()\n"
   ]
  },
  {
   "cell_type": "code",
   "execution_count": null,
   "id": "6efd251f",
   "metadata": {},
   "outputs": [],
   "source": [
    "# Pisahkan fitur dan target\n",
    "X = df.drop(columns=[\"cuaca\"])\n",
    "y = df[\"cuaca\"]\n"
   ]
  },
  {
   "cell_type": "code",
   "execution_count": null,
   "id": "8e77f12e",
   "metadata": {},
   "outputs": [],
   "source": [
    "# Tentukan fitur numerik dan kategorikal\n",
    "numeric_features = ['Tn', 'Tx', 'Tavg', 'RH_avg', 'RR', 'ss', 'ff_x', 'ddd_x', 'ff_avg']\n",
    "categorical_features = ['ddd_car']\n",
    "\n",
    "# Pipeline numerik\n",
    "numeric_transformer = Pipeline([\n",
    "    ('imputer', SimpleImputer(strategy='median')),\n",
    "    ('scaler', StandardScaler())\n",
    "])\n",
    "\n",
    "# Pipeline kategorikal\n",
    "categorical_transformer = Pipeline([\n",
    "    ('imputer', SimpleImputer(strategy='most_frequent')),\n",
    "    ('encoder', OneHotEncoder(sparse_output=False, handle_unknown='ignore'))\n",
    "])\n",
    "\n",
    "# Gabung preprocessing\n",
    "preprocessor = ColumnTransformer([\n",
    "    ('num', numeric_transformer, numeric_features),\n",
    "    ('cat', categorical_transformer, categorical_features)\n",
    "])\n"
   ]
  },
  {
   "cell_type": "code",
   "execution_count": null,
   "id": "8b064a14",
   "metadata": {},
   "outputs": [],
   "source": [
    "# Pipeline lengkap dengan SMOTE\n",
    "pipeline = ImbPipeline([\n",
    "    ('preprocessor', preprocessor),\n",
    "    ('smote', SMOTE(k_neighbors=3, random_state=42)),\n",
    "    ('classifier', RandomForestClassifier(random_state=42, class_weight='balanced'))\n",
    "])\n"
   ]
  },
  {
   "cell_type": "code",
   "execution_count": null,
   "id": "8895f9ab",
   "metadata": {},
   "outputs": [],
   "source": [
    "from sklearn.model_selection import StratifiedKFold\n",
    "\n",
    "cv = StratifiedKFold(n_splits=5, shuffle=True, random_state=42)\n",
    "scores = cross_val_score(pipeline, X, y, cv=cv, scoring='f1_macro')\n",
    "print(\"F1 Macro Scores (CV):\", scores)\n",
    "print(\"Mean F1 Macro:\", scores.mean())\n"
   ]
  },
  {
   "cell_type": "code",
   "execution_count": null,
   "id": "2614ea97",
   "metadata": {},
   "outputs": [],
   "source": [
    "# Split untuk evaluasi akhir\n",
    "X_train, X_test, y_train, y_test = train_test_split(\n",
    "    X, y, test_size=0.2, stratify=y, random_state=42\n",
    ")\n",
    "\n",
    "# Fit model\n",
    "pipeline.fit(X_train, y_train)\n",
    "y_pred = pipeline.predict(X_test)\n",
    "\n",
    "# Confusion Matrix\n",
    "ConfusionMatrixDisplay.from_predictions(y_test, y_pred, cmap='Blues')\n",
    "plt.title(\"Confusion Matrix - Random Forest\")\n",
    "plt.show()\n",
    "\n",
    "# Laporan klasifikasi\n",
    "print(classification_report(y_test, y_pred))\n"
   ]
  },
  {
   "cell_type": "markdown",
   "id": "43d54886",
   "metadata": {},
   "source": [
    "## 📌 Penjelasan Ilmiah & Best Practice\n",
    "\n",
    "1. **Pipeline** digunakan untuk memastikan **tidak terjadi data leakage** — semua preprocessing (imputasi, scaling, encoding) dilakukan di dalam pipeline yang hanya dilatih di training data.\n",
    "2. **SMOTE** digunakan untuk mengatasi **class imbalance**. SMOTE ditaruh setelah preprocessing agar bekerja di ruang fitur tertransformasi.\n",
    "3. **Cross-validation (StratifiedKFold)** digunakan agar pembagian data tetap menjaga proporsi kelas (stratifikasi), dan hasil evaluasi lebih stabil.\n",
    "4. **RandomForest** digunakan dengan `class_weight='balanced'` untuk memperhatikan kelas minoritas, menambah robustness terhadap ketidakseimbangan.\n",
    "5. Evaluasi akhir dilakukan di test set dengan **Confusion Matrix** dan **Classification Report** agar bisa melihat per kelas.\n"
   ]
  },
  {
   "cell_type": "code",
   "execution_count": null,
   "id": "0ffbb6e4",
   "metadata": {},
   "outputs": [],
   "source": [
    "# Visualisasi confusion matrix dari cross_val_predict\n",
    "from sklearn.model_selection import cross_val_predict\n",
    "from sklearn.metrics import confusion_matrix, ConfusionMatrixDisplay\n",
    "\n",
    "y_pred_cv = cross_val_predict(pipeline, X, y, cv=cv)\n",
    "cm = confusion_matrix(y, y_pred_cv)\n",
    "disp = ConfusionMatrixDisplay(confusion_matrix=cm)\n",
    "disp.plot(cmap='Blues')\n",
    "plt.title(\"Cross-Validated Confusion Matrix\")\n",
    "plt.show()\n"
   ]
  },
  {
   "cell_type": "code",
   "execution_count": null,
   "id": "523f5b96",
   "metadata": {},
   "outputs": [],
   "source": [
    "# Prediksi data baru\n",
    "new_data = pd.DataFrame({\n",
    "    'Tn': [24.4],\n",
    "    'Tx': [31.3],\n",
    "    'Tavg': [26.5],\n",
    "    'RH_avg': [86.0],\n",
    "    'RR': [0.0],\n",
    "    'ss': [7.2],\n",
    "    'ff_x': [3.0],\n",
    "    'ddd_x': [70.0],\n",
    "    'ff_avg': [1.0],\n",
    "    'ddd_car': [8]\n",
    "})\n",
    "\n",
    "predicted_class = pipeline.predict(new_data)[0]\n",
    "print(f\"Prediksi kelas cuaca untuk data baru: {predicted_class}\")\n"
   ]
  }
 ],
 "metadata": {},
 "nbformat": 4,
 "nbformat_minor": 5
}
