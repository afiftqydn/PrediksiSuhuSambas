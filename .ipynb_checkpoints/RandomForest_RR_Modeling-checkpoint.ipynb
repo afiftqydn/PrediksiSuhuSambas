{
 "cells": [
  {
   "cell_type": "code",
   "execution_count": null,
   "id": "b849358d",
   "metadata": {},
   "outputs": [],
   "source": [
    "import pandas as pd\n",
    "import numpy as np\n",
    "from sklearn.model_selection import train_test_split\n",
    "from sklearn.compose import ColumnTransformer\n",
    "from sklearn.pipeline import Pipeline\n",
    "from sklearn.ensemble import RandomForestRegressor\n",
    "from sklearn.preprocessing import OneHotEncoder\n",
    "from sklearn.metrics import mean_absolute_error, mean_squared_error, r2_score\n"
   ]
  },
  {
   "cell_type": "code",
   "execution_count": null,
   "id": "760fdae2",
   "metadata": {},
   "outputs": [],
   "source": [
    "# Load data\n",
    "df = pd.read_csv(\"readyForEda.csv\")\n",
    "\n",
    "# Drop kolom tanggal jika ada\n",
    "if \"Tanggal\" in df.columns:\n",
    "    df = df.drop(columns=[\"Tanggal\"])\n",
    "\n",
    "# Lihat data awal\n",
    "df.head()\n"
   ]
  },
  {
   "cell_type": "code",
   "execution_count": null,
   "id": "e9727e29",
   "metadata": {},
   "outputs": [],
   "source": [
    "# Target dan fitur\n",
    "X = df.drop(columns=[\"RR\"])\n",
    "y = df[\"RR\"]\n",
    "\n",
    "# Identifikasi tipe data\n",
    "numerical_cols = X.select_dtypes(include=[\"int64\", \"float64\"]).columns.tolist()\n",
    "categorical_cols = X.select_dtypes(include=[\"object\"]).columns.tolist()\n"
   ]
  },
  {
   "cell_type": "code",
   "execution_count": null,
   "id": "c712d26f",
   "metadata": {},
   "outputs": [],
   "source": [
    "# Split data\n",
    "X_train, X_test, y_train, y_test = train_test_split(\n",
    "    X, y, test_size=0.2, random_state=42\n",
    ")\n",
    "\n",
    "# Column transformer\n",
    "preprocessor = ColumnTransformer([\n",
    "    (\"num\", \"passthrough\", numerical_cols),\n",
    "    (\"cat\", OneHotEncoder(handle_unknown=\"ignore\"), categorical_cols)\n",
    "])\n",
    "\n",
    "# Pipeline\n",
    "pipeline = Pipeline([\n",
    "    (\"prep\", preprocessor),\n",
    "    (\"model\", RandomForestRegressor(random_state=42))\n",
    "])\n",
    "\n",
    "# Train\n",
    "pipeline.fit(X_train, y_train)\n"
   ]
  },
  {
   "cell_type": "code",
   "execution_count": null,
   "id": "7ac2a65b",
   "metadata": {},
   "outputs": [],
   "source": [
    "# Predict dan evaluasi\n",
    "y_pred = pipeline.predict(X_test)\n",
    "\n",
    "mae = mean_absolute_error(y_test, y_pred)\n",
    "rmse = np.sqrt(mean_squared_error(y_test, y_pred))\n",
    "r2 = r2_score(y_test, y_pred)\n",
    "\n",
    "print(f\"MAE : {mae:.2f}\")\n",
    "print(f\"RMSE: {rmse:.2f}\")\n",
    "print(f\"R2  : {r2:.2f}\")\n"
   ]
  }
 ],
 "metadata": {},
 "nbformat": 4,
 "nbformat_minor": 5
}
