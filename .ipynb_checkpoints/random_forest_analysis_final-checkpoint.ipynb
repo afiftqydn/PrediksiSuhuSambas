{
 "cells": [
  {
   "cell_type": "code",
   "execution_count": null,
   "id": "cddca217",
   "metadata": {},
   "outputs": [],
   "source": [
    "import pandas as pd\n",
    "import seaborn as sns\n",
    "import matplotlib.pyplot as plt\n",
    "\n",
    "from sklearn.model_selection import train_test_split, cross_val_score\n",
    "from sklearn.ensemble import RandomForestClassifier\n",
    "from sklearn.pipeline import Pipeline\n",
    "from sklearn.compose import ColumnTransformer\n",
    "from sklearn.preprocessing import StandardScaler, OneHotEncoder\n",
    "from sklearn.impute import SimpleImputer\n",
    "\n",
    "from imblearn.pipeline import Pipeline as ImbPipeline\n",
    "from imblearn.over_sampling import SMOTE\n"
   ]
  },
  {
   "cell_type": "code",
   "execution_count": null,
   "id": "5294b21d",
   "metadata": {},
   "outputs": [],
   "source": [
    "# Load dataset\n",
    "df = pd.read_csv(\"readyForModeling.csv\")\n",
    "df.head()\n"
   ]
  },
  {
   "cell_type": "code",
   "execution_count": null,
   "id": "b5b26195",
   "metadata": {},
   "outputs": [],
   "source": [
    "# Korelasi fitur dengan target\n",
    "plt.figure(figsize=(10, 8))\n",
    "corr_matrix = df.corr(numeric_only=True)\n",
    "sns.heatmap(corr_matrix, annot=True, cmap='coolwarm', fmt=\".2f\", square=True)\n",
    "plt.title(\"Heatmap Korelasi antar Fitur dan Target (cuaca)\")\n",
    "plt.tight_layout()\n",
    "plt.show()\n"
   ]
  },
  {
   "cell_type": "code",
   "execution_count": null,
   "id": "867c12d7",
   "metadata": {},
   "outputs": [],
   "source": [
    "# Pisahkan fitur dan target\n",
    "X = df.drop(columns=[\"cuaca\"])\n",
    "y = df[\"cuaca\"]\n",
    "\n",
    "# Tentukan fitur numerik dan kategorikal\n",
    "numeric_features = ['Tn', 'Tx', 'Tavg', 'RH_avg', 'RR', 'ss', 'ff_x', 'ddd_x', 'ff_avg']\n",
    "categorical_features = ['ddd_car']\n",
    "\n",
    "# Pipeline preprocessing\n",
    "numeric_transformer = Pipeline([\n",
    "    ('imputer', SimpleImputer(strategy='median')),\n",
    "    ('scaler', StandardScaler())\n",
    "])\n",
    "\n",
    "categorical_transformer = Pipeline([\n",
    "    ('imputer', SimpleImputer(strategy='most_frequent')),\n",
    "    ('onehot', OneHotEncoder(sparse_output=False, handle_unknown='ignore'))\n",
    "])\n",
    "\n",
    "preprocessor = ColumnTransformer([\n",
    "    ('num', numeric_transformer, numeric_features),\n",
    "    ('cat', categorical_transformer, categorical_features)\n",
    "])\n"
   ]
  },
  {
   "cell_type": "code",
   "execution_count": null,
   "id": "27f2542a",
   "metadata": {},
   "outputs": [],
   "source": [
    "# Pipeline lengkap dengan SMOTE dan Random Forest\n",
    "pipeline = ImbPipeline([\n",
    "    ('preprocessing', preprocessor),\n",
    "    ('smote', SMOTE(k_neighbors=3, random_state=42)),\n",
    "    ('classifier', RandomForestClassifier(class_weight='balanced', random_state=42))\n",
    "])\n",
    "\n",
    "# Evaluasi dengan cross-validation\n",
    "scores = cross_val_score(pipeline, X, y, cv=5, scoring='f1_macro')\n",
    "print(\"F1 Macro CV Scores:\", scores)\n",
    "print(\"Mean F1 Macro:\", scores.mean())\n"
   ]
  }
 ],
 "metadata": {},
 "nbformat": 4,
 "nbformat_minor": 5
}
